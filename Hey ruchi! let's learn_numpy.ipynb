{
 "cells": [
  {
   "cell_type": "markdown",
   "metadata": {},
   "source": [
    "\n",
    "Most of the examples are based on Wes McKinney's book Python for Data Analysis (O'Reilly)"
   ]
  },
  {
   "cell_type": "code",
   "execution_count": 2,
   "metadata": {},
   "outputs": [
    {
     "name": "stdout",
     "output_type": "stream",
     "text": [
      "1.20.1\n"
     ]
    }
   ],
   "source": [
    "#import numpy\n",
    "import numpy as np\n",
    "print(np.__version__) #you can update using conda or pip"
   ]
  },
  {
   "cell_type": "code",
   "execution_count": 3,
   "metadata": {},
   "outputs": [
    {
     "name": "stdout",
     "output_type": "stream",
     "text": [
      "[[ 1  2  3  4]\n",
      " [10 11 12 13]]\n",
      "Dimensions:  (2, 4)\n",
      "m's type:  <class 'numpy.ndarray'>\n",
      "Type of data in m:  int64\n"
     ]
    },
    {
     "data": {
      "text/plain": [
       "(2, 4)"
      ]
     },
     "execution_count": 3,
     "metadata": {},
     "output_type": "execute_result"
    }
   ],
   "source": [
    "#Simple operations with multidimensional arrays\n",
    "m = np.array([[1, 2, 3, 4],[10, 11, 12, 13]])\n",
    "print(m)\n",
    "print(\"Dimensions: \", m.shape)\n",
    "print(\"m's type: \", type(m))\n",
    "print(\"Type of data in m: \", m.dtype)\n",
    "m.shape"
   ]
  },
  {
   "cell_type": "code",
   "execution_count": 4,
   "metadata": {},
   "outputs": [
    {
     "name": "stdout",
     "output_type": "stream",
     "text": [
      "m * 5 = \n",
      " [[ 5 10 15 20]\n",
      " [50 55 60 65]]\n",
      "m + m = \n",
      " [[ 2  4  6  8]\n",
      " [20 22 24 26]]\n"
     ]
    }
   ],
   "source": [
    "#try a few mathematical operations\n",
    "print(\"m * 5 = \\n\", m * 5)\n",
    "print(\"m + m = \\n\", m + m)"
   ]
  },
  {
   "cell_type": "code",
   "execution_count": 5,
   "metadata": {},
   "outputs": [
    {
     "name": "stdout",
     "output_type": "stream",
     "text": [
      "2\n"
     ]
    }
   ],
   "source": [
    "#how many dimensions are we dealing with\n",
    "print(m.ndim)"
   ]
  },
  {
   "cell_type": "code",
   "execution_count": 6,
   "metadata": {},
   "outputs": [
    {
     "data": {
      "text/plain": [
       "array([[ 1.,  2.,  3.,  4.],\n",
       "       [10., 11., 12., 13.]])"
      ]
     },
     "execution_count": 6,
     "metadata": {},
     "output_type": "execute_result"
    }
   ],
   "source": [
    "#converting our ints to floats\n",
    "m.astype('float64')"
   ]
  },
  {
   "cell_type": "code",
   "execution_count": 7,
   "metadata": {},
   "outputs": [
    {
     "name": "stdout",
     "output_type": "stream",
     "text": [
      "Matrix of zeros: \n",
      " [[0. 0. 0. 0.]\n",
      " [0. 0. 0. 0.]]\n",
      "Array of 10 sequential numbers: \n",
      " [0 1 2 3 4 5 6 7 8 9]\n",
      "Identity matrix:\n",
      " [[1. 0. 0.]\n",
      " [0. 1. 0.]\n",
      " [0. 0. 1.]]\n"
     ]
    }
   ],
   "source": [
    "#creating arrays \n",
    "#Exampe 1: Creating a 2 x 4 array filled with zeros\n",
    "zeros_matrix = np.zeros((2,4))\n",
    "print(\"Matrix of zeros: \\n\", zeros_matrix)\n",
    "#to fill with ones use np.ones\n",
    "#creating an array of 10 sequential numbers\n",
    "v = np.arange(10)\n",
    "print(\"Array of 10 sequential numbers: \\n\",v)\n",
    "#creating an identity matrix\n",
    "i = np.eye(3)#diagonal will have ones, and the remaining will be 0s\n",
    "print(\"Identity matrix:\\n\", i)"
   ]
  },
  {
   "cell_type": "code",
   "execution_count": 8,
   "metadata": {},
   "outputs": [
    {
     "name": "stdout",
     "output_type": "stream",
     "text": [
      "[[ 1  2  3  4]\n",
      " [10 11 12 13]]\n",
      "Matrix times itself:\n",
      " [[  1   4   9  16]\n",
      " [100 121 144 169]]\n",
      "Matrix raised to 0.5:\n",
      " [[1.         1.41421356 1.73205081 2.        ]\n",
      " [3.16227766 3.31662479 3.46410162 3.60555128]]\n"
     ]
    }
   ],
   "source": [
    "#some more operations\n",
    "print(m) #our original matrix\n",
    "print(\"Matrix times itself:\\n\", m * m) #multiply corresponding elements\n",
    "print(\"Matrix raised to 0.5:\\n\", m ** 0.5)"
   ]
  },
  {
   "cell_type": "code",
   "execution_count": 9,
   "metadata": {},
   "outputs": [
    {
     "name": "stdout",
     "output_type": "stream",
     "text": [
      "1: gives:\n",
      " [2 3 4 5]\n",
      "2:4 gives:\n",
      " [3 4]\n"
     ]
    }
   ],
   "source": [
    "#slicing one dimensional numpy arrays - similar to lists in Python\n",
    "x = np.array([1,2,3,4,5])\n",
    "print(\"1: gives:\\n\", x[1:])\n",
    "print(\"2:4 gives:\\n\", x[2:4])"
   ]
  },
  {
   "cell_type": "code",
   "execution_count": 10,
   "metadata": {},
   "outputs": [
    {
     "name": "stdout",
     "output_type": "stream",
     "text": [
      "[1 2 6 8 5]\n",
      "[0 0 6 8 5]\n"
     ]
    }
   ],
   "source": [
    "#\n",
    "x[2:4] *= 2\n",
    "print(x)\n",
    "#replace first two elements with 0\n",
    "x[:2] = 0\n",
    "print(x)"
   ]
  },
  {
   "cell_type": "code",
   "execution_count": 11,
   "metadata": {},
   "outputs": [
    {
     "name": "stdout",
     "output_type": "stream",
     "text": [
      "Original list:\n",
      " [1, 2, 3, 4, 5]\n",
      "Slice:\n",
      " [1, 2]\n",
      "Slice:\n",
      " [10, 2]\n",
      "List after slice is changed:\n",
      " [1, 2, 3, 4, 5]\n",
      "Original numpy array:\n",
      " [1 2 3 4 5]\n",
      "Original slice:\n",
      " [1 2]\n",
      "Changed slice:\n",
      " [10  2]\n",
      "x after change to slice:\n",
      " [10  2  3  4  5]\n"
     ]
    }
   ],
   "source": [
    "#difference between lists and arrays.....\n",
    "aList = [1,2,3,4,5]\n",
    "print(\"Original list:\\n\", aList)\n",
    "a_slice = aList[:2] #get the first two elements\n",
    "print(\"Slice:\\n\", a_slice)\n",
    "#let us change the slice\n",
    "a_slice[0] = 10\n",
    "print(\"Slice:\\n\", a_slice)\n",
    "#what about the original list?\n",
    "print(\"List after slice is changed:\\n\", aList) #there should be no change\n",
    "#Now, let us do it with numpy arrays and see what happens\n",
    "x = np.array([1,2,3,4,5])\n",
    "print(\"Original numpy array:\\n\", x)\n",
    "x_slice = x[:2]\n",
    "print(\"Original slice:\\n\", x_slice)\n",
    "#now change x_slice\n",
    "x_slice[0] = 10\n",
    "print(\"Changed slice:\\n\", x_slice)\n",
    "#was x affected?\n",
    "print(\"x after change to slice:\\n\", x)"
   ]
  },
  {
   "cell_type": "code",
   "execution_count": 12,
   "metadata": {},
   "outputs": [
    {
     "name": "stdout",
     "output_type": "stream",
     "text": [
      "[[ 1.62434536 -0.61175641 -0.52817175 -1.07296862]\n",
      " [ 0.86540763 -2.3015387   1.74481176 -0.7612069 ]\n",
      " [ 0.3190391  -0.24937038  1.46210794 -2.06014071]\n",
      " [-0.3224172  -0.38405435  1.13376944 -1.09989127]\n",
      " [-0.17242821 -0.87785842  0.04221375  0.58281521]]\n"
     ]
    }
   ],
   "source": [
    "import numpy as np\n",
    "#creating a matrix of random normally distributed data\n",
    "np.random.seed(1) ###to replicate random numbers generated \n",
    "data = np.random.randn(5,4)\n",
    "print(data)"
   ]
  },
  {
   "cell_type": "code",
   "execution_count": 13,
   "metadata": {},
   "outputs": [
    {
     "data": {
      "text/plain": [
       "array([[ 0.3190391 , -0.24937038,  1.46210794, -2.06014071]])"
      ]
     },
     "execution_count": 13,
     "metadata": {},
     "output_type": "execute_result"
    }
   ],
   "source": [
    "#we could associate each of the 5 rows above with some names\n",
    "names = np.array([\"John\", \"Mary\", \"Peter\", \"Pollock\", \"Richards\"])\n",
    "#let us display Peter's data - row# 3\n",
    "data[names == \"Peter\"]"
   ]
  },
  {
   "cell_type": "code",
   "execution_count": 14,
   "metadata": {},
   "outputs": [
    {
     "data": {
      "text/plain": [
       "array([[ 0.86540763, -2.3015387 ,  1.74481176, -0.7612069 ],\n",
       "       [-0.17242821, -0.87785842,  0.04221375,  0.58281521]])"
      ]
     },
     "execution_count": 14,
     "metadata": {},
     "output_type": "execute_result"
    }
   ],
   "source": [
    "#you can use Boolean expressions too\n",
    "#example: display the rows corresponding to Mary and Richards\n",
    "data[(names == 'Mary') | (names == \"Richards\")]"
   ]
  },
  {
   "cell_type": "code",
   "execution_count": 15,
   "metadata": {},
   "outputs": [
    {
     "data": {
      "text/plain": [
       "array([[1.62434536, 0.        , 0.        , 0.        ],\n",
       "       [0.86540763, 0.        , 1.74481176, 0.        ],\n",
       "       [0.3190391 , 0.        , 1.46210794, 0.        ],\n",
       "       [0.        , 0.        , 1.13376944, 0.        ],\n",
       "       [0.        , 0.        , 0.04221375, 0.58281521]])"
      ]
     },
     "execution_count": 15,
     "metadata": {},
     "output_type": "execute_result"
    }
   ],
   "source": [
    "#let us replace all negative numbers in data with 0\n",
    "data[data < 0] = 0\n",
    "data"
   ]
  },
  {
   "cell_type": "code",
   "execution_count": 16,
   "metadata": {},
   "outputs": [
    {
     "data": {
      "text/plain": [
       "array([[1.74481176, 0.        ],\n",
       "       [1.46210794, 0.        ],\n",
       "       [1.13376944, 0.        ]])"
      ]
     },
     "execution_count": 16,
     "metadata": {},
     "output_type": "execute_result"
    }
   ],
   "source": [
    "data[1:4,2:]"
   ]
  },
  {
   "cell_type": "code",
   "execution_count": 17,
   "metadata": {},
   "outputs": [
    {
     "data": {
      "text/plain": [
       "array([[1.74481176, 1.46210794, 1.13376944],\n",
       "       [0.        , 0.        , 0.        ]])"
      ]
     },
     "execution_count": 17,
     "metadata": {},
     "output_type": "execute_result"
    }
   ],
   "source": [
    "#slice the data and then transpose\n",
    "data[1:4,2:].T"
   ]
  },
  {
   "cell_type": "code",
   "execution_count": 18,
   "metadata": {},
   "outputs": [
    {
     "data": {
      "text/plain": [
       "array([1.41421356, 1.73205081, 2.        , 2.23606798, 2.44948974])"
      ]
     },
     "execution_count": 18,
     "metadata": {},
     "output_type": "execute_result"
    }
   ],
   "source": [
    "#universal functions - unary ufuncs\n",
    "x = np.array([2,3,4,5,6])\n",
    "np.sqrt(x)\n",
    "#try out other functions - exp, log, log2, abs, isnan, cos, ...."
   ]
  },
  {
   "cell_type": "code",
   "execution_count": 19,
   "metadata": {},
   "outputs": [
    {
     "name": "stdout",
     "output_type": "stream",
     "text": [
      "[10 18  5  8 13]\n",
      "[15 30  6 15 24]\n",
      "[ 5 -6  4  1 -2]\n",
      "[ 50 216   5  56 143]\n"
     ]
    }
   ],
   "source": [
    "#binary ufuncs\n",
    "#consider the following arrays\n",
    "a = np.array([10,12,5,8,11])\n",
    "b = np.array([5, 18, 1, 7, 13])\n",
    "print(np.maximum(a,b))\n",
    "print(np.add(a,b))\n",
    "print(np.subtract(a,b))\n",
    "print(np.multiply(a,b))"
   ]
  },
  {
   "cell_type": "code",
   "execution_count": 20,
   "metadata": {},
   "outputs": [
    {
     "data": {
      "text/plain": [
       "array([ 1,  1, -1,  1, -1, -1])"
      ]
     },
     "execution_count": 20,
     "metadata": {},
     "output_type": "execute_result"
    }
   ],
   "source": [
    "#using conditional logic - where\n",
    "a = np.array([2,3,-4,8,-3,-7])\n",
    "#let us replace 0 and positive numbers with 1 and negative numbers with -1\n",
    "np.where( a >= 0, 1, -1)"
   ]
  },
  {
   "cell_type": "code",
   "execution_count": 21,
   "metadata": {},
   "outputs": [
    {
     "name": "stdout",
     "output_type": "stream",
     "text": [
      "Mean:  4.833333333333333\n",
      "Sum:  29\n",
      "Std. Deviation:  2.608745973749755\n"
     ]
    }
   ],
   "source": [
    "#mathematical and statistical methods\n",
    "#we will use the numpy array \"a\" given below\n",
    "a = np.array([1,3,5,7,9,4])\n",
    "print(\"Mean: \", a.mean()) #or, np.mean(a)\n",
    "print(\"Sum: \", a.sum())\n",
    "print(\"Std. Deviation: \", a.std()) #var() for variance\n"
   ]
  },
  {
   "cell_type": "code",
   "execution_count": 22,
   "metadata": {},
   "outputs": [
    {
     "name": "stdout",
     "output_type": "stream",
     "text": [
      "Matrix:  [[1 2 3]\n",
      " [4 5 6]\n",
      " [7 8 9]]\n",
      "Overall mean:  5.0\n",
      "Column averages:  [4. 5. 6.]\n",
      "Row averages:  [2. 5. 8.]\n",
      "Cumulative sum for each column:  [[ 1  2  3]\n",
      " [ 5  7  9]\n",
      " [12 15 18]]\n"
     ]
    }
   ],
   "source": [
    "#multidimensional arrays\n",
    "a = np.array([[1,2,3],[4,5,6],[7,8,9]])\n",
    "print(\"Matrix: \", a)\n",
    "print(\"Overall mean: \", a.mean()) #mean of all the numbers in the array\n",
    "print(\"Column averages: \", a.mean(axis = 0)) #gives column averages\n",
    "print(\"Row averages: \", a.mean(axis = 1)) #gives row averages\n",
    "print(\"Cumulative sum for each column: \", a.cumsum(0)) #get cumulative sums for each column\n"
   ]
  },
  {
   "cell_type": "code",
   "execution_count": null,
   "metadata": {},
   "outputs": [],
   "source": [
    "arr = np.array([1,2,3])\n",
    "print(np.cumsum(arr))"
   ]
  },
  {
   "cell_type": "code",
   "execution_count": null,
   "metadata": {},
   "outputs": [],
   "source": [
    "#consider the following array\n",
    "a = np.array([11,3,15,7,9,4])\n",
    "#let us try a function called argmax - you should also try argmin\n",
    "a.argmax() #returns index of the largest element in the array"
   ]
  },
  {
   "cell_type": "code",
   "execution_count": null,
   "metadata": {},
   "outputs": [],
   "source": [
    "#sorting\n",
    "a.sort()\n",
    "a"
   ]
  },
  {
   "cell_type": "code",
   "execution_count": null,
   "metadata": {},
   "outputs": [],
   "source": [
    "#sorted in reverse order\n",
    "a[::-1]"
   ]
  },
  {
   "cell_type": "code",
   "execution_count": null,
   "metadata": {},
   "outputs": [],
   "source": [
    "#Using argsort to get an int array of indices\n",
    "a = np.array([11,3,15,7,9,4])\n",
    "a.argsort()"
   ]
  },
  {
   "cell_type": "markdown",
   "metadata": {},
   "source": [
    "You may store your arrays on disk and retrieve them later using save() and load functions. You may also save multiple arrays in a zipped format using savez()"
   ]
  },
  {
   "cell_type": "code",
   "execution_count": null,
   "metadata": {},
   "outputs": [],
   "source": [
    "np.save('my_array', a)\n",
    "np.load('my_array')"
   ]
  },
  {
   "cell_type": "markdown",
   "metadata": {},
   "source": [
    "Linear Algebra is arguably the most important foundation for data science. It typically involves manipulation of matrices - multiplication, eigenvalues, determinants, decompositions, and so forth. Numpy makes this fairly easy."
   ]
  },
  {
   "cell_type": "code",
   "execution_count": null,
   "metadata": {},
   "outputs": [],
   "source": [
    "#Matrix multiplication\n",
    "x = np.array([[1,2,3],[4,5,6]]) # 2 x 3 matrix\n",
    "y = np.array([[10,11,12],[7,8,9],[1,2,3]]) # 3 x 3 matrix\n",
    "#np.dot(x,y)#also, x.dot(y) or y.dot(x.T)\n",
    "x.dot(y)"
   ]
  },
  {
   "cell_type": "code",
   "execution_count": null,
   "metadata": {},
   "outputs": [],
   "source": [
    "#inverse of a matrix -- (X.T.dot(X)) ** -1\n",
    "from numpy.linalg import inv\n",
    "inv(y)"
   ]
  },
  {
   "cell_type": "code",
   "execution_count": null,
   "metadata": {},
   "outputs": [],
   "source": [
    "#return diagonals -- Example: Useful to get the diagonal values in SVD\n",
    "np.diag(x)"
   ]
  },
  {
   "cell_type": "code",
   "execution_count": null,
   "metadata": {},
   "outputs": [],
   "source": [
    "#eigenvalues and eigen vectors of a square matrix\n",
    "from numpy.linalg import eig\n",
    "eig(y)"
   ]
  },
  {
   "cell_type": "code",
   "execution_count": null,
   "metadata": {},
   "outputs": [],
   "source": [
    "#singular value decomposition -- m x n --> m x n, n x m, m x n\n",
    "from numpy.linalg import svd\n",
    "a = np.array([[1,2,3],[4,5,6],[7,8,9]])\n",
    "svd(a)"
   ]
  },
  {
   "cell_type": "markdown",
   "metadata": {},
   "source": [
    "End of Numpy Tutorial. Check out the other methods under numpy.linalg."
   ]
  }
 ],
 "metadata": {
  "kernelspec": {
   "display_name": "Python 3",
   "language": "python",
   "name": "python3"
  },
  "language_info": {
   "codemirror_mode": {
    "name": "ipython",
    "version": 3
   },
   "file_extension": ".py",
   "mimetype": "text/x-python",
   "name": "python",
   "nbconvert_exporter": "python",
   "pygments_lexer": "ipython3",
   "version": "3.8.8"
  }
 },
 "nbformat": 4,
 "nbformat_minor": 2
}
